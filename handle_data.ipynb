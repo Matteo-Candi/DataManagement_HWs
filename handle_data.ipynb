{
 "cells": [
  {
   "cell_type": "code",
   "execution_count": 2,
   "metadata": {},
   "outputs": [],
   "source": [
    "from tqdm import tqdm\n",
    "import pandas as pd\n",
    "import numpy as np\n",
    "import math"
   ]
  },
  {
   "attachments": {},
   "cell_type": "markdown",
   "metadata": {},
   "source": [
    "#### Problems:\n",
    "- Not all the althletes that are present in Results are registered in Athletes -> remove their names from Results\n",
    "- Some atheletes that have had results are not in registered in Results -> no big deal\n",
    "- Some atheltes that win Medals are not registered in Athletes -> `???`"
   ]
  },
  {
   "cell_type": "code",
   "execution_count": 63,
   "metadata": {},
   "outputs": [],
   "source": [
    "athletes = pd.read_csv(\"data/olympic_athletes.csv\", sep = ';')\n",
    "hosts = pd.read_csv(\"data/olympic_hosts.csv\", sep = ',')\n",
    "medals = pd.read_csv(\"data/olympic_medals.csv\", sep = ';')\n",
    "results = pd.read_csv(\"data/olympic_results.csv\", sep = ';')"
   ]
  },
  {
   "cell_type": "code",
   "execution_count": 64,
   "metadata": {},
   "outputs": [],
   "source": [
    "def country_unifier(row):\n",
    "    if row == \"People's Republic of China\":\n",
    "        return 'China'\n",
    "    if row == \"Hong Kong, China\":\n",
    "        return 'Hong Kong'\n",
    "    if row == 'United States':\n",
    "        return 'United States of America'\n",
    "    if row == 'Australia, Sweden':\n",
    "        return 'Australia'\n",
    "    if row == 'USSR':\n",
    "        return 'Soviet Union'\n",
    "    else:\n",
    "        return row"
   ]
  },
  {
   "attachments": {},
   "cell_type": "markdown",
   "metadata": {},
   "source": [
    "## Nodes"
   ]
  },
  {
   "attachments": {},
   "cell_type": "markdown",
   "metadata": {},
   "source": [
    "### 1) Hosts"
   ]
  },
  {
   "cell_type": "code",
   "execution_count": 65,
   "metadata": {},
   "outputs": [],
   "source": [
    "# Unify country names.\n",
    "hosts.game_location = hosts.game_location.apply(lambda x: country_unifier(x))\n",
    "\n",
    "# Save data in a csv file.\n",
    "hosts.to_csv('csv/Hosts.csv', index = False, header=['slug', 'end_date', 'start_date', 'location', 'name', 'season', 'year'])"
   ]
  },
  {
   "attachments": {},
   "cell_type": "markdown",
   "metadata": {},
   "source": [
    "### 2) Countries"
   ]
  },
  {
   "cell_type": "code",
   "execution_count": 66,
   "metadata": {},
   "outputs": [],
   "source": [
    "# Get only list of names without url from results.athletes.\n",
    "def find_tuple_athl_url(row):\n",
    "    if row is not np.nan:\n",
    "        split_row = row.split(\"'\")[1::2]\n",
    "        tuple_list = []\n",
    "        for name in split_row[::2]:\n",
    "            tuple_list.append(name)\n",
    "    else:\n",
    "        return np.nan\n",
    "    \n",
    "    return tuple_list\n",
    "\n",
    "# Remove urls and get list of names.\n",
    "results.athletes = results.athletes.apply(lambda x: find_tuple_athl_url(x))\n",
    "\n",
    "# Unify country names.\n",
    "results.country_name = results.country_name.apply(lambda x: country_unifier(x))"
   ]
  },
  {
   "cell_type": "code",
   "execution_count": 67,
   "metadata": {},
   "outputs": [],
   "source": [
    "# Create country instances.\n",
    "countries = results[['country_name', 'country_code']].dropna().drop_duplicates()\n",
    "\n",
    "# Save data in a csv file.\n",
    "countries.to_csv('csv/Countries.csv', index = False, header=['name', 'code'])"
   ]
  },
  {
   "attachments": {},
   "cell_type": "markdown",
   "metadata": {},
   "source": [
    "### 3) Athletes"
   ]
  },
  {
   "cell_type": "code",
   "execution_count": 68,
   "metadata": {},
   "outputs": [
    {
     "data": {
      "text/html": [
       "<div>\n",
       "<style scoped>\n",
       "    .dataframe tbody tr th:only-of-type {\n",
       "        vertical-align: middle;\n",
       "    }\n",
       "\n",
       "    .dataframe tbody tr th {\n",
       "        vertical-align: top;\n",
       "    }\n",
       "\n",
       "    .dataframe thead th {\n",
       "        text-align: right;\n",
       "    }\n",
       "</style>\n",
       "<table border=\"1\" class=\"dataframe\">\n",
       "  <thead>\n",
       "    <tr style=\"text-align: right;\">\n",
       "      <th></th>\n",
       "      <th>athlete_url</th>\n",
       "      <th>athlete_full_name</th>\n",
       "      <th>games_participations</th>\n",
       "      <th>first_game</th>\n",
       "      <th>athlete_year_birth</th>\n",
       "      <th>G</th>\n",
       "      <th>S</th>\n",
       "      <th>B</th>\n",
       "    </tr>\n",
       "  </thead>\n",
       "  <tbody>\n",
       "    <tr>\n",
       "      <th>0</th>\n",
       "      <td>https://olympics.com/en/athletes/cooper-woods-...</td>\n",
       "      <td>Cooper WOODS-TOPALOVIC</td>\n",
       "      <td>1</td>\n",
       "      <td>Beijing 2022</td>\n",
       "      <td>2000.0</td>\n",
       "      <td>NaN</td>\n",
       "      <td>NaN</td>\n",
       "      <td>NaN</td>\n",
       "    </tr>\n",
       "    <tr>\n",
       "      <th>1</th>\n",
       "      <td>https://olympics.com/en/athletes/elofsson</td>\n",
       "      <td>Felix ELOFSSON</td>\n",
       "      <td>2</td>\n",
       "      <td>PyeongChang 2018</td>\n",
       "      <td>1995.0</td>\n",
       "      <td>NaN</td>\n",
       "      <td>NaN</td>\n",
       "      <td>NaN</td>\n",
       "    </tr>\n",
       "  </tbody>\n",
       "</table>\n",
       "</div>"
      ],
      "text/plain": [
       "                                         athlete_url       athlete_full_name  \\\n",
       "0  https://olympics.com/en/athletes/cooper-woods-...  Cooper WOODS-TOPALOVIC   \n",
       "1          https://olympics.com/en/athletes/elofsson          Felix ELOFSSON   \n",
       "\n",
       "   games_participations        first_game  athlete_year_birth   G   S   B  \n",
       "0                     1      Beijing 2022              2000.0 NaN NaN NaN  \n",
       "1                     2  PyeongChang 2018              1995.0 NaN NaN NaN  "
      ]
     },
     "execution_count": 68,
     "metadata": {},
     "output_type": "execute_result"
    }
   ],
   "source": [
    "athletes.head(2)"
   ]
  },
  {
   "cell_type": "code",
   "execution_count": 69,
   "metadata": {},
   "outputs": [],
   "source": [
    "def nan_to_0(row):\n",
    "    if math.isnan(row):\n",
    "        return 0\n",
    "    else:\n",
    "        return int(row)\n",
    "    \n",
    "def nan_to_NA(row):\n",
    "    if type(row) == str:\n",
    "        return row\n",
    "    elif math.isnan(row):\n",
    "        return 'NA'\n",
    "\n",
    "def nan_to_NA_or_int(row):\n",
    "    if math.isnan(row):\n",
    "        return 'NA'\n",
    "    elif isinstance(row, float):\n",
    "        return int(row)\n",
    "\n",
    "# Set nan of number of medals as 0.\n",
    "athletes.G = athletes.G.apply(lambda x: nan_to_0(x))\n",
    "athletes.S = athletes.S.apply(lambda x: nan_to_0(x))\n",
    "athletes.B = athletes.B.apply(lambda x: nan_to_0(x))\n",
    "\n",
    "# Replace nan with 'NA' and code as int athlete_year_birth.\n",
    "athletes.first_game = athletes.first_game.apply(lambda x: nan_to_NA(x)) \n",
    "athletes.athlete_year_birth = athletes.athlete_year_birth.apply(lambda x: nan_to_NA_or_int(x)) "
   ]
  },
  {
   "cell_type": "code",
   "execution_count": 70,
   "metadata": {},
   "outputs": [],
   "source": [
    "# Save data in a csv file.\n",
    "athletes.to_csv('csv/Athletes.csv', index = False, header=['url', 'name', 'partecipations', 'first_game', 'birth', 'G', 'S', 'B'])"
   ]
  },
  {
   "attachments": {},
   "cell_type": "markdown",
   "metadata": {},
   "source": [
    "## Edges"
   ]
  },
  {
   "attachments": {},
   "cell_type": "markdown",
   "metadata": {},
   "source": [
    "### 4) TAKE_PLACE_IN"
   ]
  },
  {
   "cell_type": "code",
   "execution_count": 71,
   "metadata": {},
   "outputs": [],
   "source": [
    "# Take column to create edges.\n",
    "TAKE_PLACE_IN = hosts[['game_slug', 'game_location']]\n",
    "\n",
    "# Save in a csv file.\n",
    "TAKE_PLACE_IN.to_csv('csv/TAKE_PLACE_IN.csv', index = False, header=['slug', 'location'])"
   ]
  },
  {
   "attachments": {},
   "cell_type": "markdown",
   "metadata": {},
   "source": [
    "### 5) NATIONALITY"
   ]
  },
  {
   "attachments": {},
   "cell_type": "markdown",
   "metadata": {},
   "source": [
    "We consider only athlete that are in the athlete table for the ones in `Results` and `Medals`"
   ]
  },
  {
   "cell_type": "code",
   "execution_count": 72,
   "metadata": {},
   "outputs": [
    {
     "name": "stderr",
     "output_type": "stream",
     "text": [
      "162804it [00:20, 7916.57it/s]\n"
     ]
    }
   ],
   "source": [
    "# Get the nationality of the athletes in the Athletes table.\n",
    "nationality_df = results[['athletes', 'country_name']]\n",
    "registered_athletes = set(athletes.athlete_full_name)\n",
    "\n",
    "all_names = []\n",
    "all_countries = []\n",
    "\n",
    "# Split the athlete that partecipate at olympic game in a team.\n",
    "for row in tqdm(nationality_df.iterrows()):\n",
    "    country = row[1].country_name\n",
    "    if isinstance(row[1].athletes, list):\n",
    "        for name in row[1].athletes:\n",
    "            if name in registered_athletes:\n",
    "                all_names.append(name)\n",
    "                all_countries.append(country)\n",
    "    else:\n",
    "        continue\n",
    "\n",
    "dict_df = {'athlete':all_names, 'country':all_countries}\n",
    "NATIONALITY = pd.DataFrame(dict_df)\n",
    "NATIONALITY = NATIONALITY.drop_duplicates(ignore_index=True)\n",
    "\n",
    "# Save in a csv file.\n",
    "NATIONALITY.to_csv('csv/NATIONALITY.csv', index = False)"
   ]
  },
  {
   "attachments": {},
   "cell_type": "markdown",
   "metadata": {},
   "source": [
    "### 6) WIN_MEDAL_IN"
   ]
  },
  {
   "cell_type": "code",
   "execution_count": 73,
   "metadata": {},
   "outputs": [
    {
     "name": "stderr",
     "output_type": "stream",
     "text": [
      "21697it [00:01, 11128.41it/s]\n"
     ]
    }
   ],
   "source": [
    "# Unify country names.\n",
    "medals.country_name = medals.country_name.apply(lambda x: country_unifier(x))\n",
    "\n",
    "# Remove duplicate column (check country_name).\n",
    "medals = medals.drop('participant_title', axis=1)\n",
    "\n",
    "all_discipline, all_slug, all_event, all_event_gender, all_medal, all_partecipant_type, all_athlete = [], [], [], [], [], [], []\n",
    "\n",
    "# Read all the rows.\n",
    "for row in tqdm(medals.iterrows()):\n",
    "    discipline, slug, event, event_gender, medal, partecipant_type, athlete, _, _ = row[1]\n",
    "    all_discipline.append(discipline)\n",
    "    all_slug.append(slug)\n",
    "    all_event.append(event)\n",
    "    all_event_gender.append(event_gender)\n",
    "    all_medal.append(medal)\n",
    "    all_partecipant_type.append(partecipant_type)\n",
    "    all_athlete.append(athlete)\n",
    "\n",
    "# Create new dataframe.\n",
    "dict_df = {'athlete': all_athlete, 'discipline':all_discipline, 'slug':all_slug, 'event':all_event, 'event_gender':all_event_gender, 'medal':all_medal, 'partecipant_type':all_partecipant_type}\n",
    "\n",
    "WIN_MEDAL_IN = pd.DataFrame(dict_df)\n",
    "WIN_MEDAL_IN = WIN_MEDAL_IN.dropna()\n",
    "\n",
    "# Save in a csv file.\n",
    "WIN_MEDAL_IN.to_csv('csv/WIN_MEDAL_IN.csv', index = False)"
   ]
  },
  {
   "attachments": {},
   "cell_type": "markdown",
   "metadata": {},
   "source": [
    "### 7) PARTECIPATE"
   ]
  },
  {
   "cell_type": "code",
   "execution_count": 74,
   "metadata": {},
   "outputs": [],
   "source": [
    "def clear_rank(row):\n",
    "    if row == 'DNS':\n",
    "        return 'NA'\n",
    "    else:\n",
    "        return row\n",
    "    \n",
    "new_results = results[results['athletes'].notna()]\n",
    "new_results = new_results.drop('medal_type', axis=1)\n",
    "\n",
    "results.rank_position = results.rank_position.apply(lambda x: clear_rank(x))\n"
   ]
  },
  {
   "cell_type": "code",
   "execution_count": 75,
   "metadata": {},
   "outputs": [
    {
     "name": "stderr",
     "output_type": "stream",
     "text": [
      "149622it [00:12, 12082.26it/s]\n"
     ]
    }
   ],
   "source": [
    "all_discipline, all_event, all_slug, all_partecipant_type, all_athlete, all_rank = [], [], [], [], [], []\n",
    "registered_athletes = set(athletes.athlete_full_name)\n",
    "\n",
    "# Read all the rows.\n",
    "for row in tqdm(new_results.iterrows()):\n",
    "    discipline, event_title, slug, partecipant_type, athlete, rank, _, _ = row[1]\n",
    "    for name in athlete:\n",
    "        if name in registered_athletes:\n",
    "            all_discipline.append(discipline)\n",
    "            all_event.append(event_title)\n",
    "            all_slug.append(slug)\n",
    "            all_partecipant_type.append(partecipant_type)\n",
    "            all_athlete.append(name)\n",
    "            all_rank.append(rank)\n",
    "        else:\n",
    "            continue\n",
    "\n",
    "dict_df = {'athlete': all_athlete, 'discipline':all_discipline, 'slug':all_slug, 'event':all_event, 'partecipant_type':all_partecipant_type, 'rank':all_rank}\n",
    "\n",
    "PARTECIPATE = pd.DataFrame(dict_df)\n",
    "\n",
    "# Save in a csv file.\n",
    "PARTECIPATE.to_csv('csv/PARTECIPATE.csv', index = False)"
   ]
  },
  {
   "attachments": {},
   "cell_type": "markdown",
   "metadata": {},
   "source": [
    "### 8) IN_TEAM_WITH"
   ]
  },
  {
   "cell_type": "code",
   "execution_count": 173,
   "metadata": {},
   "outputs": [],
   "source": [
    "team_df = results[['discipline_title', 'slug_game', 'athletes', 'participant_type']]\n",
    "team_df = team_df[team_df.participant_type == 'GameTeam']\n",
    "team_df = team_df[team_df['athletes'].notna()]"
   ]
  },
  {
   "cell_type": "code",
   "execution_count": 174,
   "metadata": {},
   "outputs": [
    {
     "name": "stderr",
     "output_type": "stream",
     "text": [
      "7976it [00:00, 29235.47it/s]\n"
     ]
    }
   ],
   "source": [
    "all_discipline, all_slug, all_athlete1, all_athlete2 = [], [], [], []\n",
    "registered_athletes = set(athletes.athlete_full_name)\n",
    "\n",
    "# Read all the rows.\n",
    "for row in tqdm(team_df.iterrows()):\n",
    "    discipline, slug, athlete, _ = row[1]\n",
    "    all_names_value =sum([name in registered_athletes for name in athlete])\n",
    "    if all_names_value !=0:\n",
    "        all_discipline.append(discipline)\n",
    "        all_slug.append(slug)\n",
    "        all_athlete1.append(athlete[0])\n",
    "        all_athlete2.append(athlete[1])\n",
    "\n",
    "\n",
    "    else:\n",
    "        continue\n",
    "\n",
    "dict_df = {'athlete_1': all_athlete1, 'athlete_2': all_athlete2, 'discipline':all_discipline, 'slug':all_slug}\n",
    "IN_TEAM_WITH = pd.DataFrame(dict_df)\n",
    "\n",
    "# Save in a csv file.\n",
    "IN_TEAM_WITH.to_csv('csv/IN_TEAM_WITH.csv', index = False)"
   ]
  }
 ],
 "metadata": {
  "kernelspec": {
   "display_name": "Python 3",
   "language": "python",
   "name": "python3"
  },
  "language_info": {
   "codemirror_mode": {
    "name": "ipython",
    "version": 3
   },
   "file_extension": ".py",
   "mimetype": "text/x-python",
   "name": "python",
   "nbconvert_exporter": "python",
   "pygments_lexer": "ipython3",
   "version": "3.10.11"
  },
  "orig_nbformat": 4
 },
 "nbformat": 4,
 "nbformat_minor": 2
}
