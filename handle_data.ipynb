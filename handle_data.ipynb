{
 "cells": [
  {
   "cell_type": "code",
   "execution_count": 61,
   "metadata": {},
   "outputs": [],
   "source": [
    "import pandas as pd\n",
    "import numpy as np\n",
    "import math"
   ]
  },
  {
   "cell_type": "code",
   "execution_count": 190,
   "metadata": {},
   "outputs": [],
   "source": [
    "athletes = pd.read_csv(\"data/olympic_athletes.csv\", sep = ';')\n",
    "hosts = pd.read_csv(\"data/olympic_hosts.csv\", sep = ',')\n",
    "medals = pd.read_csv(\"data/olympic_medals.csv\", sep = ';')\n",
    "results = pd.read_csv(\"data/olympic_results.csv\", sep = ';')"
   ]
  },
  {
   "cell_type": "code",
   "execution_count": 71,
   "metadata": {},
   "outputs": [],
   "source": [
    "# Function to get name and url of each athlete as a list in results.athletes.\n",
    "def find_tuple_athl_url(row):\n",
    "    if row is not np.nan:\n",
    "        split_row = row.split(\"'\")[1::2]\n",
    "        tuple_list = []\n",
    "        for name,  url in zip(split_row[::2], split_row[1::2]):\n",
    "            tuple_list.append((name, url))\n",
    "    else:\n",
    "        return np.nan\n",
    "    \n",
    "    return tuple_list\n",
    "\n",
    "\n",
    "results.athletes = results.athletes.apply(lambda x: find_tuple_athl_url(x))"
   ]
  },
  {
   "cell_type": "code",
   "execution_count": 192,
   "metadata": {},
   "outputs": [],
   "source": [
    "def nan_to_0(row):\n",
    "    if math.isnan(row):\n",
    "        return 0\n",
    "    else:\n",
    "        return row\n",
    "    \n",
    "def nan_to_NA(row):\n",
    "    if type(row) == str:\n",
    "        return row\n",
    "    elif math.isnan(row):\n",
    "        return 'NA'\n",
    "\n",
    "def nan_to_NA_or_int(row):\n",
    "    if math.isnan(row):\n",
    "        return 'NA'\n",
    "    elif isinstance(row, float):\n",
    "        return int(row)\n",
    "\n",
    "\n",
    "athletes.G = athletes.G.apply(lambda x: nan_to_0(x))\n",
    "athletes.S = athletes.S.apply(lambda x: nan_to_0(x))\n",
    "athletes.B = athletes.B.apply(lambda x: nan_to_0(x))\n",
    "\n",
    "athletes.first_game = athletes.first_game.apply(lambda x: nan_to_NA(x)) \n",
    "athletes.athlete_year_birth = athletes.athlete_year_birth.apply(lambda x: nan_to_NA_or_int(x)) "
   ]
  },
  {
   "cell_type": "code",
   "execution_count": 202,
   "metadata": {},
   "outputs": [
    {
     "ename": "UnicodeEncodeError",
     "evalue": "'charmap' codec can't encode character '\\u011f' in position 38: character maps to <undefined>",
     "output_type": "error",
     "traceback": [
      "\u001b[1;31m---------------------------------------------------------------------------\u001b[0m",
      "\u001b[1;31mUnicodeEncodeError\u001b[0m                        Traceback (most recent call last)",
      "\u001b[1;32mc:\\Users\\mcm23\\OneDrive\\Desktop\\GitHub\\DataManagement_HWs\\handle_data.ipynb Cell 5\u001b[0m in \u001b[0;36m5\n\u001b[0;32m      <a href='vscode-notebook-cell:/c%3A/Users/mcm23/OneDrive/Desktop/GitHub/DataManagement_HWs/handle_data.ipynb#W5sZmlsZQ%3D%3D?line=2'>3</a>\u001b[0m url, name, partecipations, first_game, birth, G, S, B \u001b[39m=\u001b[39m row[\u001b[39m1\u001b[39m]\n\u001b[0;32m      <a href='vscode-notebook-cell:/c%3A/Users/mcm23/OneDrive/Desktop/GitHub/DataManagement_HWs/handle_data.ipynb#W5sZmlsZQ%3D%3D?line=3'>4</a>\u001b[0m new_row \u001b[39m=\u001b[39m \u001b[39mf\u001b[39m\u001b[39m'''\u001b[39m\u001b[39mCREATE (:Athlete \u001b[39m\u001b[39m\\u007B\u001b[39;00m\u001b[39m{\u001b[39;00m\u001b[39mf\u001b[39m\u001b[39m\"\u001b[39m\u001b[39mname:\u001b[39m\u001b[39m'\u001b[39m\u001b[39m{\u001b[39;00mname\u001b[39m}\u001b[39;00m\u001b[39m'\u001b[39m\u001b[39m, url:\u001b[39m\u001b[39m'\u001b[39m\u001b[39m{\u001b[39;00murl\u001b[39m}\u001b[39;00m\u001b[39m'\u001b[39m\u001b[39m, games_participations:\u001b[39m\u001b[39m{\u001b[39;00mpartecipations\u001b[39m}\u001b[39;00m\u001b[39m, first_game:\u001b[39m\u001b[39m'\u001b[39m\u001b[39m{\u001b[39;00mfirst_game\u001b[39m}\u001b[39;00m\u001b[39m'\u001b[39m\u001b[39m, birth_year:\u001b[39m\u001b[39m{\u001b[39;00mbirth\u001b[39m}\u001b[39;00m\u001b[39m, gold:\u001b[39m\u001b[39m{\u001b[39;00m\u001b[39mint\u001b[39m(G)\u001b[39m}\u001b[39;00m\u001b[39m, silver:\u001b[39m\u001b[39m{\u001b[39;00m\u001b[39mint\u001b[39m(S)\u001b[39m}\u001b[39;00m\u001b[39m, bronze:\u001b[39m\u001b[39m{\u001b[39;00m\u001b[39mint\u001b[39m(B)\u001b[39m}\u001b[39;00m\u001b[39m\"\u001b[39m\u001b[39m}\u001b[39;00m\u001b[39m\\u007D\u001b[39;00m\u001b[39m)\u001b[39m\u001b[39m\\n\u001b[39;00m\u001b[39m'''\u001b[39m\n\u001b[1;32m----> <a href='vscode-notebook-cell:/c%3A/Users/mcm23/OneDrive/Desktop/GitHub/DataManagement_HWs/handle_data.ipynb#W5sZmlsZQ%3D%3D?line=4'>5</a>\u001b[0m f\u001b[39m.\u001b[39;49mwrite(new_row)\n",
      "File \u001b[1;32mC:\\Program Files\\WindowsApps\\PythonSoftwareFoundation.Python.3.10_3.10.3056.0_x64__qbz5n2kfra8p0\\lib\\encodings\\cp1252.py:19\u001b[0m, in \u001b[0;36mIncrementalEncoder.encode\u001b[1;34m(self, input, final)\u001b[0m\n\u001b[0;32m     18\u001b[0m \u001b[39mdef\u001b[39;00m \u001b[39mencode\u001b[39m(\u001b[39mself\u001b[39m, \u001b[39minput\u001b[39m, final\u001b[39m=\u001b[39m\u001b[39mFalse\u001b[39;00m):\n\u001b[1;32m---> 19\u001b[0m     \u001b[39mreturn\u001b[39;00m codecs\u001b[39m.\u001b[39;49mcharmap_encode(\u001b[39minput\u001b[39;49m,\u001b[39mself\u001b[39;49m\u001b[39m.\u001b[39;49merrors,encoding_table)[\u001b[39m0\u001b[39m]\n",
      "\u001b[1;31mUnicodeEncodeError\u001b[0m: 'charmap' codec can't encode character '\\u011f' in position 38: character maps to <undefined>"
     ]
    }
   ],
   "source": [
    "with open('insert_athletes.txt', 'w') as f:\n",
    "    for row in athletes.iterrows():\n",
    "        url, name, partecipations, first_game, birth, G, S, B = row[1]\n",
    "        new_row = f'''CREATE (:Athlete \\u007B{f\"name:'{name}', url:'{url}', games_participations:{partecipations}, first_game:'{first_game}', birth_year:{birth}, gold:{int(G)}, silver:{int(S)}, bronze:{int(B)}\"}\\u007D)\\n'''\n",
    "        f.write(new_row)"
   ]
  }
 ],
 "metadata": {
  "kernelspec": {
   "display_name": "Python 3",
   "language": "python",
   "name": "python3"
  },
  "language_info": {
   "codemirror_mode": {
    "name": "ipython",
    "version": 3
   },
   "file_extension": ".py",
   "mimetype": "text/x-python",
   "name": "python",
   "nbconvert_exporter": "python",
   "pygments_lexer": "ipython3",
   "version": "3.10.11"
  },
  "orig_nbformat": 4
 },
 "nbformat": 4,
 "nbformat_minor": 2
}
