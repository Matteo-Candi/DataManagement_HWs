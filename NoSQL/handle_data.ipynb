{
 "cells": [
  {
   "cell_type": "code",
   "execution_count": 1,
   "metadata": {},
   "outputs": [],
   "source": [
    "import pandas as pd\n",
    "import numpy as np"
   ]
  },
  {
   "cell_type": "code",
   "execution_count": 3,
   "metadata": {},
   "outputs": [],
   "source": [
    "athletes = pd.read_csv(\"data/olympic_athletes.csv\", sep = ';')\n",
    "hosts = pd.read_csv(\"data/olympic_hosts.csv\", sep = ',')\n",
    "medals = pd.read_csv(\"data/olympic_medals.csv\", sep = ';')\n",
    "results = pd.read_csv(\"data/olympic_results.csv\", sep = ';')"
   ]
  },
  {
   "cell_type": "code",
   "execution_count": 12,
   "metadata": {},
   "outputs": [],
   "source": [
    "# Function to get name and url of each athlete as a list in results.athletes.\n",
    "def find_tuple_athl_url(row):\n",
    "    if row is not np.nan:\n",
    "        split_row = row.split(\"'\")[1::2]\n",
    "        tuple_list = []\n",
    "        for name,  url in zip(split_row[::2], split_row[1::2]):\n",
    "            tuple_list.append((name, url))\n",
    "    else:\n",
    "        return np.nan\n",
    "    \n",
    "    return tuple_list\n",
    "\n",
    "\n",
    "results.athletes = results.athletes.apply(lambda x: find_tuple_athl_url(x))"
   ]
  },
  {
   "cell_type": "code",
   "execution_count": 34,
   "metadata": {},
   "outputs": [],
   "source": [
    "with open('database_creation.txt', 'a') as f:\n",
    "    f.write('com3 fra')"
   ]
  }
 ],
 "metadata": {
  "kernelspec": {
   "display_name": "Python 3",
   "language": "python",
   "name": "python3"
  },
  "language_info": {
   "codemirror_mode": {
    "name": "ipython",
    "version": 3
   },
   "file_extension": ".py",
   "mimetype": "text/x-python",
   "name": "python",
   "nbconvert_exporter": "python",
   "pygments_lexer": "ipython3",
   "version": "3.10.11"
  },
  "orig_nbformat": 4
 },
 "nbformat": 4,
 "nbformat_minor": 2
}
